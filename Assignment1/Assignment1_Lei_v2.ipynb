{
 "cells": [
  {
   "cell_type": "markdown",
   "metadata": {},
   "source": [
    "## Data set 01\n",
    "- Car evaluation: https://archive.ics.uci.edu/ml/datasets/car+evaluation"
   ]
  },
  {
   "cell_type": "markdown",
   "metadata": {},
   "source": [
    "## Data cleaning"
   ]
  },
  {
   "cell_type": "code",
   "execution_count": 10,
   "metadata": {},
   "outputs": [
    {
     "name": "stderr",
     "output_type": "stream",
     "text": [
      "<ipython-input-10-8195cbb3626c>:32: SettingWithCopyWarning: \n",
      "A value is trying to be set on a copy of a slice from a DataFrame.\n",
      "Try using .loc[row_indexer,col_indexer] = value instead\n",
      "\n",
      "See the caveats in the documentation: https://pandas.pydata.org/pandas-docs/stable/user_guide/indexing.html#returning-a-view-versus-a-copy\n",
      "  y[\"class\"] = y[\"class\"].map(label_mapping)\n"
     ]
    }
   ],
   "source": [
    "data = pd.read_csv(\"car.data\")\n",
    "\n",
    "import numpy as np\n",
    "import pandas as pd\n",
    "from sklearn.preprocessing import LabelEncoder\n",
    "#knn\n",
    "#from sklearn import neighbors, metrics\n",
    "#from sklearn.model_selection import train_test_split\n",
    "\n",
    "\n",
    "\n",
    "X = data[[\"buying\",\n",
    "         \"maint\",\n",
    "          \"doors\",\n",
    "          \"persons\",\n",
    "          \"lug_boot\",\n",
    "         \"safety\"]].values\n",
    "y = data[[\"class\"]]\n",
    "\n",
    "# lei convert x\n",
    "Le = LabelEncoder()\n",
    "for i in range(len(X[0])):\n",
    "    X[:, i] = Le.fit_transform( X[:, i])\n",
    "    \n",
    "# lei convert y\n",
    "label_mapping = {\n",
    "    'unacc':0,\n",
    "    'acc': 1,\n",
    "    'good':2,\n",
    "    'vgood':3\n",
    "}\n",
    "y[\"class\"] = y[\"class\"].map(label_mapping) \n",
    "y = np.array(y)\n"
   ]
  },
  {
   "cell_type": "markdown",
   "metadata": {},
   "source": [
    "## Split Data"
   ]
  },
  {
   "cell_type": "code",
   "execution_count": 11,
   "metadata": {},
   "outputs": [],
   "source": [
    "from sklearn.model_selection import train_test_split\n",
    "X_train, X_test, y_train, y_test = train_test_split(X,y,test_size = 0.2)"
   ]
  },
  {
   "cell_type": "markdown",
   "metadata": {},
   "source": [
    "## 1. Decision tree model"
   ]
  },
  {
   "cell_type": "code",
   "execution_count": 13,
   "metadata": {},
   "outputs": [
    {
     "name": "stdout",
     "output_type": "stream",
     "text": [
      "Run time: --- 0.0039904117584228516 seconds ---\n",
      "0.8439306358381503\n"
     ]
    }
   ],
   "source": [
    "import time\n",
    "start_time = time.time()\n",
    "\n",
    "from sklearn.metrics import accuracy_score, confusion_matrix\n",
    "from sklearn.tree import DecisionTreeClassifier\n",
    "\n",
    "dt_model =DecisionTreeClassifier(max_leaf_nodes = 10)\n",
    "dt_model.fit(X_train, y_train)\n",
    "\n",
    "predictions = dt_model.predict(X_test)\n",
    "acc = accuracy_score(y_test, predictions)\n",
    "\n",
    "print(\"Run time: --- %s seconds ---\" % (time.time() - start_time))\n",
    "print(acc)"
   ]
  },
  {
   "cell_type": "code",
   "execution_count": null,
   "metadata": {},
   "outputs": [],
   "source": []
  },
  {
   "cell_type": "markdown",
   "metadata": {},
   "source": [
    "## Neural_network - Undone"
   ]
  },
  {
   "cell_type": "code",
   "execution_count": null,
   "metadata": {},
   "outputs": [],
   "source": [
    "# count run time\n",
    "import time\n",
    "start_time = time.time()\n",
    "\n",
    "clf = MLPClassifier(solver='lbfgs', alpha=1e-5,hidden_layer_sizes=(5, 2), random_state=1)\n",
    "\n",
    "clf.fit(X, y)\n"
   ]
  },
  {
   "cell_type": "markdown",
   "metadata": {},
   "source": [
    "## 4. SVM"
   ]
  },
  {
   "cell_type": "code",
   "execution_count": 14,
   "metadata": {},
   "outputs": [
    {
     "name": "stdout",
     "output_type": "stream",
     "text": [
      "linear accuracy 0.7225433526011561\n",
      "rbf accuracy 0.9104046242774566\n"
     ]
    },
    {
     "name": "stderr",
     "output_type": "stream",
     "text": [
      "C:\\Users\\wang1\\anaconda3\\lib\\site-packages\\sklearn\\utils\\validation.py:63: DataConversionWarning: A column-vector y was passed when a 1d array was expected. Please change the shape of y to (n_samples, ), for example using ravel().\n",
      "  return f(*args, **kwargs)\n",
      "C:\\Users\\wang1\\anaconda3\\lib\\site-packages\\sklearn\\utils\\validation.py:63: DataConversionWarning: A column-vector y was passed when a 1d array was expected. Please change the shape of y to (n_samples, ), for example using ravel().\n",
      "  return f(*args, **kwargs)\n"
     ]
    }
   ],
   "source": [
    "# count run time\n",
    "import time\n",
    "start_time = time.time()\n",
    "\n",
    "# sklearn svm\n",
    "from sklearn import datasets\n",
    "from sklearn import svm\n",
    "from sklearn.metrics import accuracy_score\n",
    "\n",
    "X = data[[\"buying\",\n",
    "         \"maint\",\n",
    "          \"doors\",\n",
    "          \"persons\",\n",
    "          \"lug_boot\",\n",
    "         \"safety\"]].values\n",
    "y = data[[\"class\"]]\n",
    "\n",
    "# SVM model- linear\n",
    "linear_svc = svm.SVC(kernel='linear')\n",
    "linear_svc.kernel\n",
    "linear_svc.fit(X_train, y_train)\n",
    "\n",
    "linear_predictions = linear_svc.predict(X_test)\n",
    "linear_acc = accuracy_score(y_test, linear_predictions)\n",
    "\n",
    "print(\"linear accuracy\", linear_acc)\n",
    "#print(\"Run time: --- %s seconds ---\" % (time.time() - start_time))\n",
    "\n",
    "# SVM model-rbf\n",
    "rbf_svc = svm.SVC(kernel='rbf')\n",
    "rbf_svc.kernel\n",
    "rbf_svc.fit(X_train, y_train)\n",
    "\n",
    "rbf_predictions = rbf_svc.predict(X_test)\n",
    "rbf_acc = accuracy_score(y_test, rbf_predictions)\n",
    "\n",
    "print(\"rbf accuracy\", rbf_acc)\n",
    "#print(\"Run time: --- %s seconds ---\" % (time.time() - start_time))"
   ]
  },
  {
   "cell_type": "markdown",
   "metadata": {},
   "source": []
  },
  {
   "cell_type": "code",
   "execution_count": null,
   "metadata": {},
   "outputs": [],
   "source": []
  },
  {
   "cell_type": "markdown",
   "metadata": {},
   "source": [
    "## 5.KNN"
   ]
  },
  {
   "cell_type": "code",
   "execution_count": 18,
   "metadata": {},
   "outputs": [
    {
     "name": "stdout",
     "output_type": "stream",
     "text": [
      "accuracy:  0.7890173410404624\n",
      "Run time: --- 0.020089387893676758 seconds ---\n"
     ]
    },
    {
     "name": "stderr",
     "output_type": "stream",
     "text": [
      "C:\\Users\\wang1\\anaconda3\\lib\\site-packages\\sklearn\\neighbors\\_classification.py:179: DataConversionWarning: A column-vector y was passed when a 1d array was expected. Please change the shape of y to (n_samples,), for example using ravel().\n",
      "  return self._fit(X, y)\n"
     ]
    }
   ],
   "source": [
    "# count run time\n",
    "import time\n",
    "start_time = time.time()\n",
    "\n",
    "# sklearn KNN\n",
    "from sklearn import neighbors, metrics\n",
    "\n",
    "# create KNN model\n",
    "knn = neighbors.KNeighborsClassifier(n_neighbors = 25, weights = 'uniform')\n",
    "X_train, X_test, y_train, y_test = train_test_split(X, y, test_size = 0.2)\n",
    "\n",
    "knn.fit(X_train, y_train)\n",
    "\n",
    "prediction = knn.predict(X_test)\n",
    "accuracy = metrics.accuracy_score(y_test, prediction)\n",
    "\n",
    "#print(\"predictions: \", prediction)\n",
    "print(\"accuracy: \", accuracy)\n",
    "\n",
    "print(\"Run time: --- %s seconds ---\" % (time.time() - start_time))"
   ]
  },
  {
   "cell_type": "code",
   "execution_count": 29,
   "metadata": {},
   "outputs": [
    {
     "name": "stdout",
     "output_type": "stream",
     "text": [
      "accuracy:  0.7572254335260116\n"
     ]
    },
    {
     "name": "stderr",
     "output_type": "stream",
     "text": [
      "C:\\Users\\wang1\\anaconda3\\lib\\site-packages\\sklearn\\neighbors\\_classification.py:179: DataConversionWarning: A column-vector y was passed when a 1d array was expected. Please change the shape of y to (n_samples,), for example using ravel().\n",
      "  return self._fit(X, y)\n"
     ]
    }
   ],
   "source": []
  },
  {
   "cell_type": "code",
   "execution_count": 38,
   "metadata": {},
   "outputs": [
    {
     "name": "stdout",
     "output_type": "stream",
     "text": [
      "346\n"
     ]
    },
    {
     "data": {
      "text/plain": [
       "Text(0, 0.5, 'y-axis')"
      ]
     },
     "execution_count": 38,
     "metadata": {},
     "output_type": "execute_result"
    },
    {
     "data": {
      "image/png": "[encoded data removed]",
      "text/plain": [
       "<Figure size 432x288 with 1 Axes>"
      ]
     },
     "metadata": {
      "needs_background": "light"
     },
     "output_type": "display_data"
    }
   ],
   "source": [
    "# print(X_test.shape[0])\n",
    "\n",
    "# predction compare to y_test\n",
    "diff = []\n",
    "for i in range(X_test.shape[0]):\n",
    "    diff.append(prediction[i]- y_test[i])\n",
    "\n",
    "import matplotlib.pyplot as plt\n",
    "\n",
    "x_axis = [i for i in range(X_test.shape[0])]\n",
    "\n",
    "plt.plot(x_axis, diff)\n",
    "plt.xlabel(\"x-axis\")\n",
    "plt.ylabel(\"y-axis\")\n",
    "\n"
   ]
  },
  {
   "cell_type": "code",
   "execution_count": null,
   "metadata": {},
   "outputs": [],
   "source": []
  }
 ],
 "metadata": {
  "kernelspec": {
   "display_name": "Python 3",
   "language": "python",
   "name": "python3"
  },
  "language_info": {
   "codemirror_mode": {
    "name": "ipython",
    "version": 3
   },
   "file_extension": ".py",
   "mimetype": "text/x-python",
   "name": "python",
   "nbconvert_exporter": "python",
   "pygments_lexer": "ipython3",
   "version": "3.8.5"
  }
 },
 "nbformat": 4,
 "nbformat_minor": 4
}
