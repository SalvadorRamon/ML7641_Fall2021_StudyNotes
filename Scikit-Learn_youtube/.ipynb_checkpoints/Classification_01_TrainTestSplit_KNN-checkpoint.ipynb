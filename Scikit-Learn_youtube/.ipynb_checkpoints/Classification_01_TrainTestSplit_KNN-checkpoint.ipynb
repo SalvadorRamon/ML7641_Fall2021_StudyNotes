{
 "cells": [
  {
   "cell_type": "markdown",
   "metadata": {},
   "source": [
    "## Dataset\n",
    "- Features, lables, instances, dimensions\n",
    "![dataset](https://raw.githubusercontent.com/suereey/ML7641_Fall2021_StudyNotes/main/Screenshot/dataset_01.PNG)\n",
    "\n",
    "## Classification\n",
    "- Example of 2 features and 3 lables:\n",
    "    - ![example01](https://raw.githubusercontent.com/suereey/ML7641_Fall2021_StudyNotes/main/Screenshot/dataset_02.PNG)\n",
    "    \n"
   ]
  },
  {
   "cell_type": "code",
   "execution_count": 38,
   "metadata": {},
   "outputs": [
    {
     "name": "stdout",
     "output_type": "stream",
     "text": [
      "shape x (150, 4)\n",
      "shape y (150,)\n"
     ]
    }
   ],
   "source": [
    "# Train Test Split\n",
    "\n",
    "from sklearn import datasets\n",
    "import numpy as np\n",
    "# Important!\n",
    "from sklearn.model_selection import train_test_split\n",
    "\n",
    "iris = datasets.load_iris()\n",
    "# load_iris is a function from sklearn. The link provides documentation: iris in your code will be a dictionary-like object. \n",
    "#X and y will be numpy arrays, and names has the array of possible targets as text (rather than numeric values as in y).\n",
    "\n",
    "X = iris.data\n",
    "y = iris.target\n",
    "\n",
    "print(\"shape x\", X.shape)\n",
    "print(\"shape y\", y.shape)\n",
    "\n",
    "#print(X, y)"
   ]
  },
  {
   "cell_type": "code",
   "execution_count": 39,
   "metadata": {},
   "outputs": [
    {
     "name": "stdout",
     "output_type": "stream",
     "text": [
      "(120, 4)\n",
      "(30, 4)\n",
      "(120,)\n",
      "(30,)\n"
     ]
    }
   ],
   "source": [
    "# Example, hours of study vs good/bad grades\n",
    "# 10 different students\n",
    "# train with 8 students\n",
    "# predict with the remaining 2\n",
    "X_train, X_test, y_train, y_test = train_test_split(X, y, test_size = 0.2)\n",
    "print(X_train.shape)\n",
    "print(X_test.shape)\n",
    "print(y_train.shape)\n",
    "print(y_test.shape)"
   ]
  },
  {
   "cell_type": "markdown",
   "metadata": {},
   "source": [
    "## KNN sample code"
   ]
  },
  {
   "cell_type": "code",
   "execution_count": 40,
   "metadata": {},
   "outputs": [
    {
     "name": "stdout",
     "output_type": "stream",
     "text": [
      "  buying  maint doors persons lug_boot safety  class\n",
      "0  vhigh  vhigh     2       2    small    low  unacc\n",
      "1  vhigh  vhigh     2       2    small    med  unacc\n",
      "2  vhigh  vhigh     2       2    small   high  unacc\n",
      "3  vhigh  vhigh     2       2      med    low  unacc\n",
      "4  vhigh  vhigh     2       2      med    med  unacc\n"
     ]
    }
   ],
   "source": [
    "import numpy as np\n",
    "import pandas as pd\n",
    "from sklearn import neighbors, metrics\n",
    "from sklearn.model_selection import train_test_split\n",
    "from sklearn.preprocessing import LabelEncoder\n",
    "\n",
    "# using dataset: car evaluation (https://archive.ics.uci.edu/ml/datasets/car+evaluation)\n",
    "\n",
    "# read the car data\n",
    "data = pd.read_csv(\"car.data\")\n",
    "print(data.head())\n",
    "\n",
    "# note the original data file does not contain headings. Manually add heading in the data file\n",
    "# based on the online description"
   ]
  },
  {
   "cell_type": "code",
   "execution_count": 41,
   "metadata": {},
   "outputs": [
    {
     "name": "stdout",
     "output_type": "stream",
     "text": [
      "this is X      buying  maint safety\n",
      "0     vhigh  vhigh    low\n",
      "1     vhigh  vhigh    med\n",
      "2     vhigh  vhigh   high\n",
      "3     vhigh  vhigh    low\n",
      "4     vhigh  vhigh    med\n",
      "...     ...    ...    ...\n",
      "1723    low    low    med\n",
      "1724    low    low   high\n",
      "1725    low    low    low\n",
      "1726    low    low    med\n",
      "1727    low    low   high\n",
      "\n",
      "[1728 rows x 3 columns]\n",
      "this is y       class\n",
      "0     unacc\n",
      "1     unacc\n",
      "2     unacc\n",
      "3     unacc\n",
      "4     unacc\n",
      "...     ...\n",
      "1723   good\n",
      "1724  vgood\n",
      "1725  unacc\n",
      "1726   good\n",
      "1727  vgood\n",
      "\n",
      "[1728 rows x 1 columns]\n"
     ]
    }
   ],
   "source": [
    "# create labels and features\n",
    "# select 3 lables (the one you think is important)\n",
    "X = data[[\"buying\",\n",
    "         \"maint\",\n",
    "         \"safety\"]]\n",
    "y = data[[\"class\"]]\n",
    "print(\"this is X\", X)\n",
    "print(\"this is y\", y)"
   ]
  },
  {
   "cell_type": "code",
   "execution_count": 42,
   "metadata": {},
   "outputs": [
    {
     "name": "stdout",
     "output_type": "stream",
     "text": [
      "[[3 3 1]\n",
      " [3 3 2]\n",
      " [3 3 0]\n",
      " ...\n",
      " [1 1 1]\n",
      " [1 1 2]\n",
      " [1 1 0]]\n"
     ]
    }
   ],
   "source": [
    "# converting the data, for example change string in to number\n",
    "X = data[[\"buying\",\n",
    "         \"maint\",\n",
    "         \"safety\"]].values\n",
    "y = data[[\"class\"]]\n",
    "#print(X,y)\n",
    "Le = LabelEncoder()\n",
    "for i in range(len(X[0])):\n",
    "    X[:, i] = Le.fit_transform( X[:, i])\n",
    "    \n",
    "print(X)"
   ]
  },
  {
   "cell_type": "code",
   "execution_count": 43,
   "metadata": {},
   "outputs": [
    {
     "name": "stdout",
     "output_type": "stream",
     "text": [
      "[[0]\n",
      " [0]\n",
      " [0]\n",
      " ...\n",
      " [0]\n",
      " [2]\n",
      " [3]]\n"
     ]
    },
    {
     "name": "stderr",
     "output_type": "stream",
     "text": [
      "<ipython-input-43-61a41fc9f630>:8: SettingWithCopyWarning: \n",
      "A value is trying to be set on a copy of a slice from a DataFrame.\n",
      "Try using .loc[row_indexer,col_indexer] = value instead\n",
      "\n",
      "See the caveats in the documentation: https://pandas.pydata.org/pandas-docs/stable/user_guide/indexing.html#returning-a-view-versus-a-copy\n",
      "  y[\"class\"] = y[\"class\"].map(label_mapping)\n"
     ]
    }
   ],
   "source": [
    "# another way to convert, use y as an example\n",
    "label_mapping = {\n",
    "    'unacc':0,\n",
    "    'acc': 1,\n",
    "    'good':2,\n",
    "    'vgood':3\n",
    "}\n",
    "y[\"class\"] = y[\"class\"].map(label_mapping) \n",
    "y = np.array(y)\n",
    "print(y)"
   ]
  },
  {
   "cell_type": "code",
   "execution_count": 52,
   "metadata": {},
   "outputs": [
    {
     "name": "stdout",
     "output_type": "stream",
     "text": [
      "predictions:  [3 2 0 3 0 0 0 0 3 0 0 0 0 0 0 0 3 1 0 0 0 0 0 0 0 0 0 3 0 0 0 0 3 1 0 0 0\n",
      " 0 0 0 0 0 0 1 0 0 0 3 0 0 0 3 0 1 3 0 0 0 0 0 0 0 0 3 0 0 1 0 0 0 1 0 0 2\n",
      " 3 1 0 0 1 1 0 0 0 0 0 2 0 0 0 1 0 0 0 0 0 1 0 0 0 0 3 0 0 0 0 0 3 2 3 0 3\n",
      " 0 0 0 3 1 2 0 0 3 0 0 0 0 3 1 0 0 1 0 0 0 0 0 3 0 0 0 1 0 0 0 3 0 3 0 0 1\n",
      " 0 1 0 0 1 0 0 0 0 0 1 0 0 0 1 0 0 0 0 1 0 0 1 0 0 0 0 3 0 2 0 0 1 0 2 0 0\n",
      " 3 0 1 0 1 0 0 0 2 1 0 0 0 3 0 0 2 0 0 0 3 0 0 2 2 0 0 2 1 0 0 0 0 2 0 1 0\n",
      " 0 0 0 0 0 3 2 1 2 0 0 0 0 2 0 0 3 3 3 0 0 1 0 0 0 0 1 0 0 0 1 0 0 1 0 0 1\n",
      " 1 1 0 0 1 0 0 1 3 0 0 0 0 3 1 0 0 0 1 0 1 0 1 2 3 0 0 0 3 0 0 1 2 0 2 0 0\n",
      " 0 0 0 1 0 0 0 0 0 3 0 1 0 0 0 0 0 1 0 0 3 0 0 0 0 0 3 0 3 2 0 1 0 0 0 0 1\n",
      " 0 0 0 1 3 1 0 1 1 3 1 0 2]\n",
      "accuracy:  0.7601156069364162\n"
     ]
    },
    {
     "name": "stderr",
     "output_type": "stream",
     "text": [
      "C:\\Users\\wang1\\anaconda3\\lib\\site-packages\\sklearn\\neighbors\\_classification.py:179: DataConversionWarning: A column-vector y was passed when a 1d array was expected. Please change the shape of y to (n_samples,), for example using ravel().\n",
      "  return self._fit(X, y)\n"
     ]
    }
   ],
   "source": [
    "# create KNN Model\n",
    "knn = neighbors.KNeighborsClassifier(n_neighbors = 25, weights = 'uniform')\n",
    "X_train, X_test, y_train, y_test = train_test_split(X, y, test_size = 0.2)\n",
    "\n",
    "knn.fit(X_train, y_train)\n",
    "\n",
    "prediction = knn.predict(X_test)\n",
    "accuracy = metrics.accuracy_score(y_test, prediction)\n",
    "\n",
    "print(\"predictions: \", prediction)\n",
    "print(\"accuracy: \", accuracy)"
   ]
  },
  {
   "cell_type": "code",
   "execution_count": 58,
   "metadata": {},
   "outputs": [
    {
     "name": "stdout",
     "output_type": "stream",
     "text": [
      "actual value [0]\n",
      "predicted value 0\n"
     ]
    },
    {
     "data": {
      "text/plain": [
       "Text(0, 0.5, 'y-axis')"
      ]
     },
     "execution_count": 58,
     "metadata": {},
     "output_type": "execute_result"
    },
    {
     "data": {
      "image/png": "[encoded data removed]",
      "text/plain": [
       "<Figure size 432x288 with 1 Axes>"
      ]
     },
     "metadata": {
      "needs_background": "light"
     },
     "output_type": "display_data"
    }
   ],
   "source": [
    "# Is this model accurate, let's test it\n",
    "a = 100\n",
    "\n",
    "print(\"actual value\", y[a])\n",
    "print(\"predicted value\", knn.predict(X)[a])\n",
    "\n",
    "# or lei test this\n",
    "diff = []\n",
    "for i in range(a):\n",
    "    diff.append(y[a] - knn.predict(X)[a])\n",
    "\n",
    "import matplotlib.pyplot as plt\n",
    "\n",
    "x_axis = [i for i in range(a)]\n",
    "\n",
    "plt.plot(x_axis, diff)\n",
    "plt.xlabel(\"x-axis\")\n",
    "plt.ylabel(\"y-axis\")"
   ]
  },
  {
   "cell_type": "code",
   "execution_count": null,
   "metadata": {},
   "outputs": [],
   "source": []
  }
 ],
 "metadata": {
  "kernelspec": {
   "display_name": "Python 3",
   "language": "python",
   "name": "python3"
  },
  "language_info": {
   "codemirror_mode": {
    "name": "ipython",
    "version": 3
   },
   "file_extension": ".py",
   "mimetype": "text/x-python",
   "name": "python",
   "nbconvert_exporter": "python",
   "pygments_lexer": "ipython3",
   "version": "3.8.5"
  }
 },
 "nbformat": 4,
 "nbformat_minor": 4
}
