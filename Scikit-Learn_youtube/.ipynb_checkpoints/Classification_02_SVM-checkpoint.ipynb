{
 "cells": [
  {
   "cell_type": "markdown",
   "metadata": {},
   "source": [
    "## Support Vector Machine\n",
    "- svm:\n",
    "    - Effective for high dimensional spaces\n",
    "    - Many kernel functions\n",
    "    - Classification and regression\n",
    "- kernel: is the function we use to increase the dimenssion\n",
    "    - See link for examples: https://scikit-learn.org/stable/modules/svm.html#svm-kernels\n",
    "- Sigmoid function\n",
    "    - ![sigmoidfunction]()"
   ]
  },
  {
   "cell_type": "code",
   "execution_count": 12,
   "metadata": {},
   "outputs": [
    {
     "name": "stdout",
     "output_type": "stream",
     "text": [
      "(150, 4)\n",
      "(150,)\n"
     ]
    }
   ],
   "source": [
    "# SVM code example\n",
    "# Dataset: Iris Data Set: https://archive.ics.uci.edu/ml/datasets/iris\n",
    "from sklearn import datasets\n",
    "import numpy as np\n",
    "from sklearn.model_selection import train_test_split\n",
    "\n",
    "# important\n",
    "from sklearn import svm\n",
    "from sklearn.metrics import accuracy_score\n",
    "\n",
    "iris = datasets.load_iris()\n",
    "\n",
    "#split it in features and lables\n",
    "\n",
    "X = iris.data\n",
    "y = iris.target\n",
    "\n",
    "classes = ['Iris Setosa',\n",
    "           'Iris Versicolour',\n",
    "           'Iris Virginica']\n",
    "\n",
    "print(X.shape)\n",
    "print(y.shape)"
   ]
  },
  {
   "cell_type": "code",
   "execution_count": 13,
   "metadata": {},
   "outputs": [
    {
     "name": "stdout",
     "output_type": "stream",
     "text": [
      "SVC()\n",
      "(120, 4)\n",
      "(30, 4)\n",
      "(120,)\n",
      "(30,)\n",
      "predictions:  [2 1 1 0 1 1 1 0 1 1 0 2 2 0 1 0 1 1 0 0 2 1 1 1 1 2 2 2 2 0]\n",
      "actual:  [2 1 1 0 1 1 1 0 2 1 0 2 2 0 1 0 1 1 0 0 2 1 1 1 1 2 2 2 2 0]\n",
      "accuracy 0.9666666666666667\n"
     ]
    }
   ],
   "source": [
    "X_train, X_test, y_train, y_test = train_test_split(X,y,test_size = 0.2)\n",
    "\n",
    "model = svm.SVC()\n",
    "model.fit(X_train, y_train)\n",
    "\n",
    "print(model)\n",
    "print(X_train.shape)\n",
    "print(X_test.shape)\n",
    "print(y_train.shape)\n",
    "print(y_test.shape)\n",
    "\n",
    "predictions = model.predict(X_test)\n",
    "acc = accuracy_score(y_test, predictions)\n",
    "\n",
    "print(\"predictions: \", predictions)\n",
    "print(\"actual: \", y_test)\n",
    "print(\"accuracy\", acc)"
   ]
  },
  {
   "cell_type": "markdown",
   "metadata": {},
   "source": [
    "## Linear Regression"
   ]
  },
  {
   "cell_type": "code",
   "execution_count": 17,
   "metadata": {},
   "outputs": [
    {
     "name": "stdout",
     "output_type": "stream",
     "text": [
      "shape, X (506, 13)\n",
      "shape, y (506,)\n"
     ]
    }
   ],
   "source": [
    "# Dataset: Boston housing (https://www.cs.toronto.edu/~delve/data/boston/bostonDetail.html)\n",
    "\n",
    "from sklearn import datasets\n",
    "from sklearn import linear_model\n",
    "from sklearn.model_selection import train_test_split\n",
    "from matplotlib import pyplot as plt\n",
    "\n",
    "boston = datasets.load_boston()\n",
    "\n",
    "#features/labels\n",
    "X = boston.data\n",
    "y = boston.target\n",
    "\n",
    "#print(\"X\", X)\n",
    "#print(\"y\", y)\n",
    "print(\"shape, X\", X.shape)\n",
    "print(\"shape, y\", y.shape)"
   ]
  },
  {
   "cell_type": "code",
   "execution_count": 22,
   "metadata": {},
   "outputs": [
    {
     "data": {
      "text/plain": [
       "<function matplotlib.pyplot.show(close=None, block=None)>"
      ]
     },
     "execution_count": 22,
     "metadata": {},
     "output_type": "execute_result"
    },
    {
     "data": {
      "image/png": "[encoded data removed]",
      "text/plain": [
       "<Figure size 432x288 with 1 Axes>"
      ]
     },
     "metadata": {
      "needs_background": "light"
     },
     "output_type": "display_data"
    }
   ],
   "source": [
    "# algorithm\n",
    "l_reg = linear_model.LinearRegression()\n",
    "# select 1 feature to see\n",
    "plt.scatter(X.T[0], y)\n",
    "plt.show\n",
    "#another feature\n",
    "plt.scatter(X.T[5], y)\n",
    "plt.show"
   ]
  },
  {
   "cell_type": "code",
   "execution_count": 26,
   "metadata": {},
   "outputs": [
    {
     "name": "stdout",
     "output_type": "stream",
     "text": [
      "R^2 value 0.73853341235204\n",
      "coeff:  [-1.16617683e-01  4.33854519e-02 -1.38938750e-02  1.91896985e+00\n",
      " -2.08982306e+01  3.84637311e+00  8.84187338e-03 -1.61225056e+00\n",
      "  3.08577562e-01 -1.06801780e-02 -9.66544823e-01  1.01396518e-02\n",
      " -5.09671381e-01]\n",
      "intercept:  37.612932182795305\n"
     ]
    }
   ],
   "source": [
    "X_train, X_test, y_train, y_test = train_test_split(X,y,test_size = 0.2)\n",
    "\n",
    "#train\n",
    "model = l_reg.fit(X_train, y_train)\n",
    "\n",
    "predictions = model.predict(X_test)\n",
    "\n",
    "#print(\"predictions: \", predictions)\n",
    "#print(\"actual: \", y_test)\n",
    "print(\"R^2 value\", l_reg.score(X,y))\n",
    "print(\"coeff: \", l_reg.coef_)\n",
    "print(\"intercept: \", l_reg.intercept_)\n",
    "# coeff is the slope of all the linear regression trend lines"
   ]
  }
 ],
 "metadata": {
  "kernelspec": {
   "display_name": "Python 3",
   "language": "python",
   "name": "python3"
  },
  "language_info": {
   "codemirror_mode": {
    "name": "ipython",
    "version": 3
   },
   "file_extension": ".py",
   "mimetype": "text/x-python",
   "name": "python",
   "nbconvert_exporter": "python",
   "pygments_lexer": "ipython3",
   "version": "3.8.5"
  }
 },
 "nbformat": 4,
 "nbformat_minor": 4
}
